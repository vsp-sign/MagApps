{
 "cells": [
  {
   "cell_type": "code",
   "execution_count": 1,
   "metadata": {},
   "outputs": [
    {
     "ename": "ValueError",
     "evalue": "could not convert string to float: ''",
     "output_type": "error",
     "traceback": [
      "\u001b[1;31m---------------------------------------------------------------------------\u001b[0m",
      "\u001b[1;31mValueError\u001b[0m                                Traceback (most recent call last)",
      "\u001b[1;32mc:\\Users\\au698552\\OneDrive - Aarhus Universitet\\Documents\\GitHub\\MagApps\\BinderTrial.ipynb Cell 1\u001b[0m line \u001b[0;36m5\n\u001b[0;32m      <a href='vscode-notebook-cell:/c%3A/Users/au698552/OneDrive%20-%20Aarhus%20Universitet/Documents/GitHub/MagApps/BinderTrial.ipynb#W0sZmlsZQ%3D%3D?line=0'>1</a>\u001b[0m \u001b[39mdef\u001b[39;00m \u001b[39mXtCalc\u001b[39m(M,Mw,Mo,T,F):\n\u001b[0;32m      <a href='vscode-notebook-cell:/c%3A/Users/au698552/OneDrive%20-%20Aarhus%20Universitet/Documents/GitHub/MagApps/BinderTrial.ipynb#W0sZmlsZQ%3D%3D?line=1'>2</a>\u001b[0m     \u001b[39mreturn\u001b[39;00m T\u001b[39m*\u001b[39m(((Mo\u001b[39m*\u001b[39mMw)\u001b[39m/\u001b[39m(F\u001b[39m*\u001b[39mM\u001b[39m/\u001b[39m\u001b[39m1000\u001b[39m)\u001b[39m+\u001b[39m(Mw\u001b[39m/\u001b[39m\u001b[39m2000000\u001b[39m)))\n\u001b[1;32m----> <a href='vscode-notebook-cell:/c%3A/Users/au698552/OneDrive%20-%20Aarhus%20Universitet/Documents/GitHub/MagApps/BinderTrial.ipynb#W0sZmlsZQ%3D%3D?line=4'>5</a>\u001b[0m Ma\u001b[39m=\u001b[39mMass\u001b[39m=\u001b[39m \u001b[39mfloat\u001b[39;49m(\u001b[39minput\u001b[39;49m(\u001b[39m\"\u001b[39;49m\u001b[39mEnter the mass of the sAMPLE in mg\u001b[39;49m\u001b[39m\"\u001b[39;49m))\n\u001b[0;32m      <a href='vscode-notebook-cell:/c%3A/Users/au698552/OneDrive%20-%20Aarhus%20Universitet/Documents/GitHub/MagApps/BinderTrial.ipynb#W0sZmlsZQ%3D%3D?line=5'>6</a>\u001b[0m Mw\u001b[39m=\u001b[39mMolecular_weight\u001b[39m=\u001b[39m \u001b[39mfloat\u001b[39m(\u001b[39minput\u001b[39m(\u001b[39m\"\u001b[39m\u001b[39mEnter the molecular weight of the sample\u001b[39m\u001b[39m\"\u001b[39m))\n\u001b[0;32m      <a href='vscode-notebook-cell:/c%3A/Users/au698552/OneDrive%20-%20Aarhus%20Universitet/Documents/GitHub/MagApps/BinderTrial.ipynb#W0sZmlsZQ%3D%3D?line=6'>7</a>\u001b[0m Mo\u001b[39m=\u001b[39mMoment\u001b[39m=\u001b[39m \u001b[39mfloat\u001b[39m(\u001b[39minput\u001b[39m(\u001b[39m\"\u001b[39m\u001b[39mEnter the moment in emu\u001b[39m\u001b[39m\"\u001b[39m))\n",
      "\u001b[1;31mValueError\u001b[0m: could not convert string to float: ''"
     ]
    }
   ],
   "source": [
    "def XtCalc(M,Mw,Mo,T,F):\n",
    "    return Te*(((Mo*Mw)/(Fe*Ma/1000)+(Mw/2000000)))\n",
    "\n",
    "\n",
    "Ma=Mass= float(input(\"Enter the mass of the sAMPLE in mg\"))\n",
    "Mw=Molecular_weight= float(input(\"Enter the molecular weight of the sample\"))\n",
    "Mo=Moment= float(input(\"Enter the moment in emu\"))\n",
    "Te=Temp= float(input(\"Enter the temperature in Kelvin\"))\n",
    "Fe=Field= float(input(\"Enter the field in Oe\"))\n"
   ]
  },
  {
   "cell_type": "code",
   "execution_count": null,
   "metadata": {},
   "outputs": [],
   "source": [
    "Xt= XtCalc(Ma,Mw,Mo,Te,Fe)\n",
    "print(f\"The XT product is : {Xt}\")"
   ]
  },
  {
   "cell_type": "code",
   "execution_count": null,
   "metadata": {},
   "outputs": [],
   "source": []
  }
 ],
 "metadata": {
  "kernelspec": {
   "display_name": "Python 3 (ipykernel)",
   "language": "python",
   "name": "python3"
  },
  "language_info": {
   "codemirror_mode": {
    "name": "ipython",
    "version": 3
   },
   "file_extension": ".py",
   "mimetype": "text/x-python",
   "name": "python",
   "nbconvert_exporter": "python",
   "pygments_lexer": "ipython3",
   "version": "3.11.3"
  }
 },
 "nbformat": 4,
 "nbformat_minor": 2
}
