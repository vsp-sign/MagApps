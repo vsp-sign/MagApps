{
 "cells": [
  {
   "cell_type": "code",
   "execution_count": null,
   "metadata": {},
   "outputs": [
    {
     "ename": "",
     "evalue": "",
     "output_type": "error",
     "traceback": [
      "\u001b[1;31mRunning cells with 'base' requires the ipykernel package.\n",
      "\u001b[1;31mRun the following command to install 'ipykernel' into the Python environment. \n",
      "\u001b[1;31mCommand: 'conda install -n base ipykernel --update-deps --force-reinstall'"
     ]
    }
   ],
   "source": [
    "Ma=Mass= float(input(\"Enter the mass of the sAMPLE in mg\"))\n",
    "Mw=Molecular_weight= float(input(\"Enter the molecular weight of the sample\"))\n",
    "Mo=Moment= float(input(\"Enter the moment in emu\"))\n",
    "Te=Temp= float(input(\"Enter the temperature in Kelvin\"))\n",
    "Fe=Field= float(input(\"Enter the field in Oe\"))\n",
    "\n",
    "def XtCalc(M,Mw,Mo,T,F):\n",
    "    return Te*(((Mo*Mw)/(Fe*Ma/1000)+(Mw/2000000)))\n"
   ]
  },
  {
   "cell_type": "code",
   "execution_count": null,
   "metadata": {},
   "outputs": [
    {
     "ename": "",
     "evalue": "",
     "output_type": "error",
     "traceback": [
      "\u001b[1;31mRunning cells with 'base' requires the ipykernel package.\n",
      "\u001b[1;31mRun the following command to install 'ipykernel' into the Python environment. \n",
      "\u001b[1;31mCommand: 'conda install -n base ipykernel --update-deps --force-reinstall'"
     ]
    }
   ],
   "source": [
    "Xt= XtCalc(Ma,Mw,Mo,Te,Fe)\n",
    "print(f\"The XT product is : {Xt}\")"
   ]
  }
 ],
 "metadata": {
  "kernelspec": {
   "display_name": "Python 3 (ipykernel)",
   "language": "python",
   "name": "python3"
  },
  "language_info": {
   "name": "python",
   "version": "3.7.12"
  }
 },
 "nbformat": 4,
 "nbformat_minor": 2
}
