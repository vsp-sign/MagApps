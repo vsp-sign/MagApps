{
 "cells": [
  {
   "cell_type": "code",
   "execution_count": null,
   "metadata": {},
   "outputs": [],
   "source": [
    "def XtCalc(M,Mw,Mo,T,F):\n",
    "    return Te*(((Mo*Mw)/(Fe*Ma/1000)+(Mw/2000000)))\n",
    "\n",
    "\n",
    "Ma=Mass= float(input(\"Enter the mass of the sAMPLE in mg\"))\n",
    "Mw=Molecular_weight= float(input(\"Enter the molecular weight of the sample\"))\n",
    "Mo=Moment= float(input(\"Enter the moment in emu\"))\n",
    "Te=Temp= float(input(\"Enter the temperature in Kelvin\"))\n",
    "Fe=Field= float(input(\"Enter the field in Oe\"))\n"
   ]
  },
  {
   "cell_type": "code",
   "execution_count": null,
   "metadata": {},
   "outputs": [],
   "source": [
    "Xt= XtCalc(Ma,Mw,Mo,Te,Fe)\n",
    "print(f\"The XT product is : {Xt}\")"
   ]
  },
  {
   "cell_type": "code",
   "execution_count": null,
   "metadata": {},
   "outputs": [],
   "source": []
  }
 ],
 "metadata": {
  "kernelspec": {
   "display_name": "Python 3 (ipykernel)",
   "language": "python",
   "name": "python3"
  },
  "language_info": {
   "codemirror_mode": {
    "name": "ipython",
    "version": 3
   },
   "file_extension": ".py",
   "mimetype": "text/x-python",
   "name": "python",
   "nbconvert_exporter": "python",
   "pygments_lexer": "ipython3",
   "version": "3.11.3"
  }
 },
 "nbformat": 4,
 "nbformat_minor": 2
}
